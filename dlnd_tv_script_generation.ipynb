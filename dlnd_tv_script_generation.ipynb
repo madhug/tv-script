{
 "cells": [
  {
   "cell_type": "markdown",
   "metadata": {
    "deletable": true,
    "editable": true
   },
   "source": [
    "# TV Script Generation\n",
    "In this project, you'll generate your own [Simpsons](https://en.wikipedia.org/wiki/The_Simpsons) TV scripts using RNNs.  You'll be using part of the [Simpsons dataset](https://www.kaggle.com/wcukierski/the-simpsons-by-the-data) of scripts from 27 seasons.  The Neural Network you'll build will generate a new TV script for a scene at [Moe's Tavern](https://simpsonswiki.com/wiki/Moe's_Tavern).\n",
    "## Get the Data\n",
    "The data is already provided for you.  You'll be using a subset of the original dataset.  It consists of only the scenes in Moe's Tavern.  This doesn't include other versions of the tavern, like \"Moe's Cavern\", \"Flaming Moe's\", \"Uncle Moe's Family Feed-Bag\", etc.."
   ]
  },
  {
   "cell_type": "code",
   "execution_count": 4,
   "metadata": {
    "collapsed": false,
    "deletable": true,
    "editable": true
   },
   "outputs": [],
   "source": [
    "\"\"\"\n",
    "DON'T MODIFY ANYTHING IN THIS CELL\n",
    "\"\"\"\n",
    "import helper\n",
    "\n",
    "data_dir = './data/simpsons/moes_tavern_lines.txt'\n",
    "text = helper.load_data(data_dir)\n",
    "# Ignore notice, since we don't use it for analysing the data\n",
    "text = text[81:]"
   ]
  },
  {
   "cell_type": "markdown",
   "metadata": {
    "deletable": true,
    "editable": true
   },
   "source": [
    "## Explore the Data\n",
    "Play around with `view_sentence_range` to view different parts of the data."
   ]
  },
  {
   "cell_type": "code",
   "execution_count": 5,
   "metadata": {
    "collapsed": false,
    "deletable": true,
    "editable": true
   },
   "outputs": [
    {
     "name": "stdout",
     "output_type": "stream",
     "text": [
      "Dataset Stats\n",
      "Roughly the number of unique words: 11492\n",
      "Number of scenes: 262\n",
      "Average number of sentences in each scene: 15.248091603053435\n",
      "Number of lines: 4257\n",
      "Average number of words in each line: 11.50434578341555\n",
      "\n",
      "The sentences 0 to 500:\n",
      "Moe_Szyslak: (INTO PHONE) Moe's Tavern. Where the elite meet to drink.\n",
      "Bart_Simpson: Eh, yeah, hello, is Mike there? Last name, Rotch.\n",
      "Moe_Szyslak: (INTO PHONE) Hold on, I'll check. (TO BARFLIES) Mike Rotch. Mike Rotch. Hey, has anybody seen Mike Rotch, lately?\n",
      "Moe_Szyslak: (INTO PHONE) Listen you little puke. One of these days I'm gonna catch you, and I'm gonna carve my name on your back with an ice pick.\n",
      "Moe_Szyslak: What's the matter Homer? You're not your normal effervescent self.\n",
      "Homer_Simpson: I got my problems, Moe. Give me another one.\n",
      "Moe_Szyslak: Homer, hey, you should not drink to forget your problems.\n",
      "Barney_Gumble: Yeah, you should only drink to enhance your social skills.\n",
      "\n",
      "\n",
      "Moe_Szyslak: Ah, isn't that nice. Now, there is a politician who cares.\n",
      "Barney_Gumble: If I ever vote, it'll be for him. (BELCH)\n",
      "\n",
      "\n",
      "Barney_Gumble: Hey Homer, how's your neighbor's store doing?\n",
      "Homer_Simpson: Lousy. He just sits there all day. He'd have a great job if he didn't own the place. (CHUCKLES)\n",
      "Moe_Szyslak: (STRUGGLING WITH CORKSCREW) Crummy right-handed corkscrews! What does he sell?\n",
      "Homer_Simpson: Uh, well actually, Moe...\n",
      "HOMER_(CONT'D: I dunno.\n",
      "\n",
      "\n",
      "Moe_Szyslak: Looks like this is the end.\n",
      "Barney_Gumble: That's all right. I couldn't have led a richer life.\n",
      "Barney_Gumble: So the next time somebody tells you county folk are good, honest people, you can spit in their faces for me!\n",
      "Lisa_Simpson: I will, Mr. Gumbel. But if you'll excuse me, I'm profiling my dad for the school paper. I thought it would be neat to follow him around for a day to see what makes him tick.\n",
      "Barney_Gumble: Oh, that's sweet. I used to follow my dad to a lot of bars too. (BELCH)\n",
      "Moe_Szyslak: Here you go. One beer, one chocolate milk.\n",
      "Lisa_Simpson: Uh, excuse me, I have the chocolate milk.\n",
      "Moe_Szyslak: Oh.\n",
      "Moe_Szyslak: What's the matter, Homer? The depressin' effects of alcohol usually don't kick in 'til closing time.\n",
      "Lisa_Simpson: He's just a little nervous. (PROUDLY) He has to give a speech tomorrow on \"How To Keep Cool In A Crisis.\"\n",
      "Homer_Simpson: (SOBS) What am I gonna do? What am I gonna do?\n",
      "Barney_Gumble: Hey, I had to give a speech once. I was pretty nervous, so I used a little trick. I pictured everyone in their underwear. The judge, the jury, my lawyer, everybody.\n",
      "Homer_Simpson: Did it work?\n",
      "Barney_Gumble: I'm a free man, ain't I?\n",
      "Barney_Gumble: Whoa!\n",
      "Barney_Gumble: Huh? A pretzel? Wow, looks like I pulled a Homer!\n",
      "\n",
      "\n",
      "Patrons: (MUMBLING, NOT IN UNISON) Happy thoughts... happy thoughts... we love that boy.\n",
      "Moe_Szyslak: (INTO PHONE) Moe's Tavern. Hold on, I'll check. ... (LOUD) Hey everybody! I'm a stupid moron with an ugly face and a big butt, and my butt smells, and I like to kiss my own butt.\n",
      "Barney_Gumble: That's a new one (LAUGHING).\n",
      "Moe_Szyslak: Now wait a minute...\n",
      "\n",
      "\n",
      "Homer_Simpson: Hurry, Moe, hurry! I've only got five minutes till the music store closes.\n",
      "Moe_Szyslak: Why don't you go there first?\n",
      "Homer_Simpson: Hey, do I tell you how to do your job?\n",
      "Moe_Szyslak: Sorry, Homer.\n",
      "Homer_Simpson: You know, if you tip the glass, there won't be so much foam on top.\n",
      "Moe_Szyslak: Sorry, Homer.\n",
      "Homer_Simpson: (LOOKING AT WATCH) Ah. Finished with fifteen seconds to spare.\n",
      "Little_Man: (CONCERNED) What's the matter, buddy?\n",
      "Homer_Simpson: The moron next door closed early!\n",
      "Little_Man: (STIFFENING) I happen to be that moron.\n",
      "Homer_Simpson: Oh, me and my trenchant mouth.\n",
      "Homer_Simpson: Please, you've got to open that store.\n",
      "Little_Man: Let me think about it... Eh... No.\n",
      "Homer_Simpson: Okay, okay. But I want you to see a picture of the little girl you're disappointing. (GOES THROUGH HIS WALLET) Well I don't have one.\n",
      "Moe_Szyslak: (TO LITTLE MAN) Come on, Jer. Open up. Be a pal. Remember when I pulled you and your wife out of that burning car?\n",
      "Little_Man: (GRUDGINGLY) Okay. Okay. But now we're even. (TO HOMER) So what does your daughter need?\n",
      "Homer_Simpson: (SMOOTHLY) I'll have you know, I wrote it down.\n",
      "Homer_Simpson: Number Four and a half -- Stupid gum!\n",
      "Homer_Simpson: Number Four and a Half reed! Whoo hoo!\n",
      "Little_Man: Uh-huh. And what instrument does she play?\n",
      "Homer_Simpson: (SUNK) I dunno.\n",
      "\n",
      "\n",
      "Moe_Szyslak: (TO PATRONS) Figure of speech.\n",
      "Moe_Szyslak: Hiya, Homer. (SIGHS)\n",
      "Homer_Simpson: What's the matter, Moe?\n",
      "Moe_Szyslak: Ah, business is slow. People today are healthier and drinking less. You know, if it wasn't for the Junior High school next door no one would even use the cigarette machine.\n",
      "Homer_Simpson: (MOUTH FULL) Yeah, things are tough all over.\n",
      "Moe_Szyslak: Increased job satisfaction and family togetherness are poison for a purveyor of mind-numbing intoxicants like myself.\n",
      "Homer_Simpson: Could I get a beer?\n",
      "Moe_Szyslak: Uh, yeah, sure.\n",
      "Moe_Szyslak: Oh sorry, I forgot we're out of beer.\n",
      "Moe_Szyslak: Yeah, I know, I got behind on my beer payments. The distributor cut me off and I spent my last ten grand on the \"Love Tester\".\n",
      "Moe_Szyslak: You're too late, Homer. Barney sucked it dry. Cut his gums up pretty bad.\n",
      "Moe_Szyslak: Take it easy, Homer. I learned how to make other drinks at Bartender's School.\n",
      "Moe_Szyslak: (UNFAMILIAR) Gin and... tonic? Do they mix?\n",
      "Homer_Simpson: (BRIGHTENING) Hey, I know a good drink. Really hits the spot. I invented it myself...\n",
      "Moe_Szyslak: Sorry, Harv.\n",
      "Moe_Szyslak: Whoa, sounds like one hell of a drink. What do you call it?\n",
      "Homer_Simpson: A \"Flaming Homer\".\n",
      "Moe_Szyslak: Okay, why don't you make us up a couple of \"Flaming Homers\"?\n",
      "Homer_Simpson: Hey Moe, you got any cough syrup?\n",
      "Moe_Szyslak: Uh, let me check the lost and found.\n",
      "Moe_Szyslak: What do we got here, Bowie knife, troll doll, glass eye...\n",
      "Moe_Szyslak: Oh. Here we are.\n",
      "Moe_Szyslak: It's not without its charm.\n",
      "Homer_Simpson: Try lighting it on fire.\n",
      "Moe_Szyslak: (SMILING) Whoa! Homer, it's like there's a party in my mouth and everyone's invited.\n",
      "Larry: Hey, your Love Tester's busted. I want my nickel back. (COUGHS)\n",
      "Moe_Szyslak: Hey, buddy. Have one on the house.\n",
      "Larry: Hey, hey, this drink is delicious! And my phlegm feels looser. What do you call it?\n",
      "Homer_Simpson: Well, it's called a \"Flaming...\n",
      "Moe_Szyslak: Moe! It's called a \"Flaming Moe\"! That's right, a \"Flaming Moe\". My name is Moe, and I invented it. That's why it's called a Flaming Moe. What? What are you lookin' at, Homer? It's a Flaming Moe I'm Moe.\n",
      "Barney_Gumble: Hey, what's this?\n",
      "Moe_Szyslak: A sneeze guard.\n",
      "Barney_Gumble: Wow, it really works.\n",
      "HARV: (CHUCKLING) I'll be back.\n",
      "Homer_Simpson: Moe, I haven't seen the place this crowded since the government cracked down on you for accepting food stamps. Do you think my drink had something to do with it?\n",
      "Moe_Szyslak: Who can say? It's probably a combination of things.\n",
      "Patron_#1: (TO MOE) Another pitcher of those amazing \"Flaming Moe's\".\n",
      "Patron_#2: Boy, I hate this joint, but I love that drink.\n",
      "Collette: Barkeep, I couldn't help noticing your sign.\n",
      "Moe_Szyslak: The one that says, \"Bartenders Do It 'Til You Barf\"?\n",
      "Collette: No, above that store-bought drollery.\n",
      "Moe_Szyslak: Oh great! Why don't we fill out an application? (READING) I'll need your name, measurements and turn ons..\n",
      "Collette: You really expect me to tell you my measurements?\n",
      "Moe_Szyslak: You could, but I find this way is much more accurate... and fun.\n",
      "Collette: (DISGUSTED) what do you offer in the way of salary?\n",
      "Moe_Szyslak: Minimum wage and tips. (MEANINGFULLY) Of course there are fringe benefits.\n",
      "Collette: Such as?\n",
      "Moe_Szyslak: An unforgettable weekend at Club Moe.\n",
      "Collette: I prefer to take my vacations someplace hot.\n",
      "Moe_Szyslak: I like your moxie, kid. You're hired.\n",
      "Collette: You shan't regret this.\n",
      "Moe_Szyslak: Methinks I shan't.\n",
      "HARV: (TO MOE) Pardon me, are you the genius behind the \"Flaming Moe\"?\n",
      "Homer_Simpson: Why yes I --\n",
      "Moe_Szyslak: (CUTTING HIM OFF) I'm your man.\n",
      "HARV: Huh uh. My name is Harv Bannister. I work for \"Tipsy McStagger's Good Time Drinking and Eating Emporium\".\n",
      "Moe_Szyslak: Oh yeah? Hey, what's Mr. McStagger really like?\n",
      "HARV: Actually, there is no Tipsy McStagger. He's just a composite of other successful logos.\n",
      "Moe_Szyslak: Well, you tell him from me that he makes one great mozzarella stick.\n",
      "HARV: (QUICKLY) Yes, fine, I will. Anyway, I've got a proposition for you.\n",
      "Moe_Szyslak: Keep talkin'.\n",
      "HARV: We feel your \"Flaming Moe\" is perfect for our restaurant chain. We want to buy the recipe.\n",
      "Moe_Szyslak: No dice. The \"Flaming Moe\" is not for sale. Do you know how much of my blood and sweat are in this drink?\n",
      "Barney_Gumble: Good for you, Moe. Only an idiot would give away a million dollar idea like that.\n",
      "Moe_Szyslak: (TO HARV) I'm sorry, but the secret ingredient dies with me.\n",
      "Delivery_Man: (TO MOE) Thirty cases of cough syrup. Sign here.\n",
      "Moe_Szyslak: (COVERING NERVOUS LAUGHING) I got hooked on this stuff in the service.\n",
      "Homer_Simpson: (QUIETLY) Hi, Moe. Where's that waitress of yours?\n",
      "Moe_Szyslak: Ah, she left to pursue a movie career. Frankly I think she was better off here.\n",
      "Homer_Simpson: Moe, sorry I lost you hundreds of thousands of dollars.\n",
      "Moe_Szyslak: Oh, hey, hey. Maybe some things are too good to be kept a secret.\n",
      "Homer_Simpson: I guess so.\n",
      "Moe_Szyslak: Compliments of the house. (WARMLY) One \"Flaming Homer\".\n",
      "Homer_Simpson: Ahh. Thanks, Moe. You're the greatest friend a guy could ever have.\n",
      "Homer_Simpson: Hey, do you think Aerosmith will be in tonight?\n",
      "Moe_Szyslak: I doubt it.\n",
      "\n",
      "\n",
      "Moe_Szyslak: (SHOCKED) Are you sure? Cuz once I open the bottle there's no refund.\n",
      "Moe_Szyslak: Hey, Homer. Wanna Duff?\n",
      "Homer_Simpson: (SMOOTHLY) No, I'd like a bottle of Henry K. Duff's Private Reserve.\n",
      "Homer_Simpson: For your information, I just made a cool twenty-five dollars playing the market. Buy low, sell high, that's my motto. I may just quit my job at the power plant to become a full-time stock market guy.\n",
      "Homer_Simpson: Have a Duff, boys!\n",
      "Hans: (GERMAN ACCENT, FRIENDLY) Oh, thank you. My English is not perfect, but I have to tell you your beer is like swill to us. Do I have that right? I am saying that only a swine would drink this beer.\n",
      "Fritz: (GERMAN ACCENT) Yeah, but thank you anyway.\n",
      "Homer_Simpson: Hey, you guys aren't from around here, are you?\n",
      "Hans: Ech, nein. We are from Germany. He is from the East. I am from the West.\n",
      "Fritz: I had a big company and he had a big company. Now we have a very big company.\n",
      "Hans: We are interested in buying the power plant. Do you think the owner would ever sell it?\n",
      "Homer_Simpson: (VERY CONFIDENT) Well, I happen to know that he won't sell it for less than 100 million dollars.\n",
      "Fritz: A hundred million?\n",
      "Hans: Oh, don't worry! We'll still have enough left to buy the Cleveland Browns.\n",
      "Moe_Szyslak: (INTO PHONE) Moe's Tavern. Moe speaking.\n",
      "Bart_Simpson: (INTO PHONE) Uh yes, I'm looking for a Mrs. O'Problem. First name... Bee.\n",
      "Moe_Szyslak: (INTO PHONE) Ah, yeah. Just a minute, I'll check. (CALLING OUT) Uh, Bee O'Problem. Bee O'Problem. C'mon, guys. Do I have an O'Problem here?\n",
      "Barney_Gumble: You sure do!\n",
      "Moe_Szyslak: (REALIZING) Awwww. (INTO PHONE) It's you, isn't it?\n",
      "Moe_Szyslak: Listen you, when I get a hold of you, I'm gonna use your head for a bucket and paint my house with your brains!\n",
      "Bart_Simpson: Excuse me, I'm looking for --\n",
      "Moe_Szyslak: Wait a minute. I know that voice.\n",
      "Moe_Szyslak: If it isn't little Bart Simpson! I haven't seen you in years.\n",
      "Bart_Simpson: That's right. That's my pop!\n",
      "Moe_Szyslak: Ah, little Bart... we hear all about your monkeyshines.\n",
      "Moe_Szyslak: (CONSPIRATORIAL) Bet you get into all kinds of trouble he don't even know about. Am I right? Huh? Am I right?\n",
      "Bart_Simpson: (CAN'T RESIST) Yeah, well, I make some crank phone calls.\n",
      "Moe_Szyslak: (MUSSES BART'S HAIR) (LAUGHS) That's great! Hey, would you sing that old song you used to sing for me?\n",
      "Bart_Simpson: (A LITTLE EMBARRASSED) Moe, for you... anything?\n",
      "Bart_Simpson: (SINGING) EVERY TEDDY BEAR WHO'S BEEN GOOD IS SURE OF A TREAT TODAY/ THERE'S LOTS OF MARVELOUS THINGS TO EAT, AND WONDERFUL GAMES TO PLAY/ BENEATH THE TREES, WHERE NOBODY SEES/ THEY'LL HIDE AND SEEK AS LONG AS THEY PLEASE/ TODAY'S THE DAY THE TEDDY BEARS HAVE THEIR PICNIC!\n",
      "Moe_Szyslak: He's a pip, this one is!\n",
      "C._Montgomery_Burns: Ah, the mirthless laugh of the damned. Hold your nose, Smithers, we're going in!\n",
      "C._Montgomery_Burns: (TO SMITHERS) Watch me blend in. (TO MOE) Barkeep, some cheap domestic beer for me and my \"buddy\" here.\n",
      "Homer_Simpson: I'm not your buddy, you greedy old reptile!\n",
      "C._Montgomery_Burns: Smithers, who is this saucy fellow?\n",
      "Waylon_Smithers: Homer Simpson, sir. Sector Sieben-gruben -- I mean, Sector 7G. Recently terminated.\n",
      "Homer_Simpson: That's right. I lost my job so that you could have another 100 million dollars.\n",
      "Homer_Simpson: (POINTED) Let me ask you something. Does your money cheer you up when you're feeling blue?\n",
      "C._Montgomery_Burns: Yes.\n",
      "Homer_Simpson: Okay, bad example. So let me ask you this, does your money ever hug you when you come home at night?\n",
      "C._Montgomery_Burns: (SHAKEN) Why, no.\n",
      "Homer_Simpson: And does it ever say, \"I love you?\"\n",
      "C._Montgomery_Burns: (SHAKEN) No, it doesn't.\n",
      "Homer_Simpson: (SING-SONG) Nobody loves you. Nobody loves you. You're old and you're ugly. Nobody loves you. Yea, yea, yea yea!\n",
      "Homer_Simpson: Nobody loves you...\n",
      "C._Montgomery_Burns: Good heavens, Smithers! They're not afraid of me anymore!\n",
      "Bart_Simpson: Hey Mr. Burns, did you get that letter I sent?\n",
      "C._Montgomery_Burns: Letter? I don't recall any letter...\n",
      "Bart_Simpson: That's because I forgot to stamp it.\n",
      "Moe_Szyslak: (LAUGHING) Ah, that kid slays me.\n",
      "C._Montgomery_Burns: That was no accident. Let's get out of here.\n",
      "Homer_Simpson: (SINGING) Na na na na / Na na na na /\n",
      "Barflies: Hey hey hey / Goodbye -- Na na na na / na na na na / hey hey hey / goodbye...\n",
      "C._Montgomery_Burns: What good is money if you can't inspire terror in your fellow man? (DETERMINED) I've got to get my plant back!\n",
      "\n",
      "\n",
      "Moe_Szyslak: Moe's Tavern. Where the peanut bowl is freshened hourly.\n",
      "Homer_Simpson: Moe, I'd like to bet twenty dollars on Denver.\n",
      "Moe_Szyslak: (SLYLY) I think I can provide that service. (LOOKING AROUND) Um, uh, Chief Wiggum, could you hand me that little black book?\n",
      "Chief_Wiggum: Oh, sure thing, Moe. I was just using it as a coaster.\n",
      "Homer_Simpson: Twenty big ones on Denver.\n",
      "Moe_Szyslak: (INTO PHONE) Pleasure doing business with you, (COYLY) H. S.\n",
      "Homer_Simpson: (TO TV) All right, Denver. Justify my love.\n",
      "Football_Announcer: At the end of thirteen seconds of play, it's New England seven, Denver nothing.\n",
      "Lisa_Simpson: Look, Dad. I made a modest studio apartment for my Malibu Stacey doll. This is the kitchen, this is where she prints her weekly feminist newsletter...\n",
      "Lisa_Simpson: DAAAAAD! You're not listening to me.\n",
      "Homer_Simpson: (GRUMBLING) Lousy, stupid Denver.\n",
      "Homer_Simpson: The usual, Moe. A beer and a wad of bills.\n",
      "Moe_Szyslak: (SARCASTIC LAUGH) Okay, ya lucky moron.\n",
      "Moe_Szyslak: Here you go, Homer. A hundred and thirty-five dollars.\n",
      "Homer_Simpson: (SAGELY) I used to hate the smell of your sweaty feet. (SNIFFS DEEPLY) Now it's the smell of victory.\n",
      "Moe_Szyslak: Aw, shut up.\n",
      "Moe_Szyslak: Hundred and ten, a hundred and twenty... You lucky son-of-a...\n",
      "Barney_Gumble: Hey Homer, you wanna go bowling next Sunday?\n",
      "Homer_Simpson: Barney, are you nuts? That's the Super Bowl. How about the Sunday after that?\n",
      "Barney_Gumble: Well, my ma's coming in from Norway, but... uh what the hell. (BELCHES)\n",
      "Moe_Szyslak: Moe's Tavern, Home of the Super Sunday Brunch Spectacular.\n",
      "Barney_Gumble: Oh! Baloney. Bread!\n",
      "Moe_Szyslak: (INTO PHONE) Gotcha ya down for forty bucks. Good luck Your Eminence.\n",
      "Moe_Szyslak: Sorry, Homer, you can't take any more of my money. I'm, uh, outta the bookie business.\n",
      "Barney_Gumble: But Moe, you've been taking bets all...\n",
      "Moe_Szyslak: (CUTTING HIM OFF) Hey Barney, how 'bout a free beer?\n",
      "Barney_Gumble: Wow! (BELCH)\n",
      "Homer_Simpson: Don't worry, Moe. I'm not bettin'.\n",
      "Moe_Szyslak: What? Gimme that.\n",
      "Homer_Simpson: I had the greatest gift of all, a little girl who could pick football and I ruined it.\n",
      "Bret: Well sir, we're two hours and forty-five minutes into the pre-game show and we've got ourselves a special guest. Actor Troy McClure, whose new sitcom is premiering tonight -- coincidentally enough, right after the game!\n",
      "Troy_McClure: Thanks, Bret. My new show's called \"Handle with Care\". I play Jack Handle, a retired cop who shares an apartment with a retired criminal. We're the original odd couple!\n",
      "Bret: What made you want to do a situation comedy?\n",
      "Troy_McClure: Well, I fell in love with the script, Bret, and my recent trouble with the IRS sealed the deal.\n",
      "Bret: Could be another Drexel's Class. Ooh, looks like we're almost ready for the kickoff.\n",
      "Football_Announcer: Dallas kicks -- oh, it's a bad kick, way too short. Buffalo's going to start with excellent field position.\n",
      "Homer_Simpson: Buffalo's gonna win. Lisa hates me! (SOBS)\n",
      "Larry: Whatcha got riding on this game?\n",
      "Homer_Simpson: My daughter.\n",
      "Larry: (WHISTLES) What a gambler.\n",
      "Football_Announcer: That was the score at the half. Buffalo fourteen: Dallas seven.\n",
      "Barflies: Go! Go! Go! Go! Go! Yea!!\n",
      "Duff_Announcer: It's a touchdown for half-back Dan Beer-dorf! Duff Dry has won the Duff Bowl!\n",
      "Moe_Szyslak: They wanted it more.\n",
      "Barney_Gumble: Hey Homer, didn't you say if Duff Dry wins, your daughter loves you?\n",
      "Homer_Simpson: (AGGRAVATED) Not Duff Dry... Dallas.\n",
      "Barney_Gumble: Okay, okay. They're both great teams.\n",
      "Homer_Simpson: (LOOKING UP) Huh?\n",
      "Football_Announcer: Touchdown Cowboys!\n",
      "Homer_Simpson: All right, we're back in business.\n",
      "Football_Announcer: So, with three ticks left on the clock, it all comes down to this one play. If Dallas scores here, happy fans'll be looting and turning over cars in the Lone Star state tonight. Here's the handoff.\n",
      "Homer_Simpson: Please, please, please...\n",
      "Football_Announcer: Touchdown! Stick a fork in this one. It is done. The Dallas Cowboys wins Super Bowl twenty-nine.\n",
      "Homer_Simpson: Yes! She loves me! She loves me!\n",
      "Moe_Szyslak: What are you so happy about Homer? You didn't win any money.\n",
      "Homer_Simpson: Money comes and money goes, but what I have with my daughter can go on for eight more years!\n",
      "\n",
      "\n",
      "Homer_Simpson: Hi Barney. Thanks for keeping me company.\n",
      "Barney_Gumble: No problem. (TO MAGGIE) Well, well, if it isn't little Bart. (SCRATCHING MAGGIE'S CHIN) Remember your Uncle Barney? Hey Homer, let me hold him.\n",
      "Homer_Simpson: (HANDING MAGGIE OVER) All right, but just be careful.\n",
      "Barney_Gumble: Whoa... someone smells stinky. (SNIFFING SHIRT) Oh, it's me.\n",
      "\n",
      "\n",
      "Barney_Gumble: And I say, England's greatest Prime Minister was Lord Palmerston.\n",
      "Wade_Boggs: Pit the Elder.\n",
      "Barney_Gumble: (JUMPS OFF STOOL) Lord Palmerston!\n",
      "Wade_Boggs: (POKING BARNEY) Pit the Elder!\n",
      "Barney_Gumble: Okay, you asked for it, Boggs!\n",
      "Moe_Szyslak: (SCORNFULLY) Yeah, that's showin' him, Barney. Pit the Elder.\n",
      "Barney_Gumble: (IN MOE'S FACE) Lord Palmerston!\n",
      "\n",
      "\n",
      "Barney_Gumble: (AMAZED) Did you say one hundred and thirty million dollars?\n",
      "Homer_Simpson: Yeah!\n",
      "Moe_Szyslak: Pfft, the lottery. Exploiter of the poor and ignorant.\n",
      "Barney_Gumble: You know, I heard the jackpot's up to one hundred and thirty million dollars.\n",
      "Homer_Simpson: (SPITTING OUT BEER) One hundred and thirty million dollars!\n",
      "Sadistic_Barfly: C'mon boozehound! You want the twenty five cents, don't you? Keep singin'!\n",
      "Homer_Simpson: (SINGING) BUFFALO GALS WON'T YOU COME OUT TONIGHT / COME OUT TONIGHT / COME OUT TONIGHT... OH BUFFALO GALS...\n",
      "Young_Barfly: Who's that old rummy?\n",
      "Moe_Szyslak: (OFFENDED) Before his dog got sick, that \"old rummy\" used to be my best customer.\n",
      "Homer_Simpson: (SINGING) AND DANCE BY THE LIGHT OF THE MOONNNNNNNN!\n",
      "Sadistic_Barfly: Go get it, pal.\n",
      "Homer_Simpson: My quarter!!! (MOAN)\n",
      "\n",
      "\n",
      "Homer_Simpson: Oh, no. I went to this bar the other night, and they...\n",
      "Moe_Szyslak: Wha...wha... Wait a minute. You went to another bar?\n",
      "Homer_Simpson: Hey Moe, you got any Fudd?\n",
      "Moe_Szyslak: Fudd? I thought they took that off the market after all those hillbillies went blind.\n",
      "Homer_Simpson: Moe, I was a hundred miles outta town.\n",
      "Moe_Szyslak: (SADLY) Oh, Homer.\n",
      "\n",
      "\n",
      "Smokin'_Joe_Frazier: Keep those pickled eggs comin', Moe.\n",
      "Moe_Szyslak: You cleaned me out Smokin' Joe. What's the matter Homer? Cummerbund too tight?\n",
      "Homer_Simpson: (SADLY) I miss my couch.\n",
      "Smokin'_Joe_Frazier: I know how you feel. You lost a couch. I lost a heavyweight championship.\n",
      "Homer_Simpson: Pfft! Heavyweight championship. There's like three of those. That couch was one of a kind.\n",
      "Smokin'_Joe_Frazier: Homer, I know things are tough now. But one day you'll be walking along and you'll see a piece of furniture that you can love just as much.\n",
      "Barney_Gumble: Hey, Frazier, shut up!\n",
      "Smokin'_Joe_Frazier: Barney, you've been riding my back all night.\n",
      "Barney_Gumble: Oh yeah? Care to step outside?\n",
      "Smokin'_Joe_Frazier: Let's do it.\n",
      "Homer_Simpson: (FINISHING BEER) I think I'm gonna take a walk.\n",
      "Barney_Gumble: All right! A peanut!\n",
      "Barney_Gumble: Come on washer!\n",
      "Moe_Szyslak: (HITS DRYER) Oh, you stupid dryer!\n",
      "\n",
      "\n",
      "Homer_Simpson: Hello, work? This is Homer Simpson. I won't be coming in tomorrow -- Religious holiday... The uh, Feast of... (LOOKING AT SIGN) Maximum Occupancy.\n",
      "Moe_Szyslak: Pretty slick.\n",
      "Homer_Simpson: Well, you should join my religion, Moe. It's great. No Hell... no kneeling....\n",
      "Moe_Szyslak: Sorry, Homer. I was born a Snake-Handler and I'll die a Snake-Handler.\n",
      "\n",
      "\n",
      "Homer_Simpson: Moe, have you ever felt unattractive?\n",
      "Moe_Szyslak: Mmmm... no.\n",
      "Homer_Simpson: How about you, Barney?\n",
      "Barney_Gumble: Not for a second (BELCH).\n",
      "Homer_Simpson: (SIGH) I need help.\n",
      "Tv_Father: (WITH EACH TOSS) Whee... whee... whee.... whee... wheeeee...\n",
      "Tv_Father: (TO THE CAMERA) I guess every father thinks his daughter is the cutest.\n",
      "Jack_Larson: Well, now, there's a way to prove it.\n",
      "Tv_Father: Wow, president of Laramie Cigarettes, Jack Larson!\n",
      "Jack_Larson: This year, Laramie is sponsoring the Little Miss Springfield pageant. You see, government regulations prohibit us from advertising on TV. (HE TAKES OUT A CIGARETTE AND SMOKES IT) Ah, that sweet Carolina smoke. But they can't prohibit us from holding a beauty pageant for little girls age seven to nine.\n",
      "Homer_Simpson: Lisa's age seven to nine!\n",
      "Jack_Larson: Your daughter could be crowned Little Miss Springfield by our host, the Maitre d' of glee, Krusty the Clown!\n",
      "Krusty_the_Clown: I heartily endorse this event or product.\n",
      "Tv_Daughter: What a feeling! I'm as happy as a smoker taking that first puff in the morning.\n",
      "Homer_Simpson: That could be Lisa!\n",
      "Announcer: The Little Miss Springfield Pageant. Only 250 dollars to enter.\n",
      "Homer_Simpson: Hey, Barney, will you give me 250 bucks for this blimp ticket?\n",
      "Barney_Gumble: Sure!\n",
      "Homer_Simpson: (GASPS) Where'd you get all the money?\n",
      "Barney_Gumble: From some scientists. Since they stopped testing on animals, a guy like me can really clean up.\n",
      "\n",
      "\n",
      "Mrs._Powers: But it says \"good for one free beer at Moe's.\" This is Moe's Tavern, isn't it?\n",
      "Moe_Szyslak: (LYING) No, this is... Bo's Cavern.\n",
      "Mrs._Powers: (DISGUSTED) Give me my beer.\n",
      "Moe_Szyslak: Stupid Welcome Mobile, I knew it would ruin me.\n",
      "Moe_Szyslak: Hey, just a sec, I'll check. (TO EVERYONE) Amanda Huggenkiss! Hey, I'm looking for Amanda Huggenkiss! Why can't I find Amanda Huggenkiss!\n",
      "Barney_Gumble: Maybe your standards are too high.\n",
      "Moe_Szyslak: You little S.O.B., if I ever find out who you are I'm gonna shove a sausage down your throat and stick starving dogs in your butt!\n",
      "Moe_Szyslak: Ah-ha, big mistake pal! (TO SELF) I knew he'd slip up sooner or later.\n",
      "Moe_Szyslak: Ah, yes. Rusty and dull.\n",
      "Moe_Szyslak: Barney, don't steal any beer while I'm gone.\n",
      "Barney_Gumble: (SHAKING HIS HEAD) What kind of pathetic drunk do you take me for? (GASP) Somebody spilled beer in this ashtray. (SLURPS IT, THEN SIGHS)\n",
      "\n",
      "\n",
      "Moe_Szyslak: Hey, Homer, phone call.\n",
      "\n",
      "\n",
      "Barney_Gumble: Uh-oh. My heart just stopped. (LONG BEAT) Ah, there it goes.\n",
      "Moe_Szyslak: Ivana Tinkle. Just a sec. Ivana Tinkle. Ivana Tinkle. All right, everybody put down your glasses. Ivana Tinkle.\n",
      "Captain: Har, har, har.\n",
      "\n",
      "\n",
      "Moe_Szyslak: Here you go, Mr. Plow. A beer on the house.\n",
      "Barney_Gumble: Wow, Moe, you didn't even give a beer to those freed Iranian hostages.\n",
      "Teenage_Barney: I don't know. The SAT's are tomorrow.\n",
      "Moe_Szyslak: Ah, they shouldn't have been there in the first place. But Homer is a real hero.\n",
      "Barney_Gumble: I wish I was a hero.\n",
      "Homer_Simpson: Well wishing won't make it so. You've got to pull up your diaper, get out there, and be the best damn Barney you can be.\n",
      "Barney_Gumble: Here I come world!\n",
      "Homer_Simpson: How do you think he'll do, Moe?\n",
      "Moe_Szyslak: (PROUDLY) I think he'll do just fine.\n",
      "Moe_Szyslak: (TO BARNEY) Linda Ronstadt? How'd you get her?\n",
      "Barney_Gumble: Eh, we've been lookin' for a project to do together for a while.\n",
      "Linda_Ronstadt: (SINGING) WHEN THE SNOW STARTS A FALLIN'... THERE'S A MAN YOU SHOULD BE CALLIN'... THAT'S KL5-4796 -- LET IT RING; /MR. PLOW IS A LOSER AND / I THINK HE IS A BOOZER...\n",
      "Barney_Gumble: (SINGING) SO YOU BETTER MAKE THAT CALL TO THE PLOW KING.\n",
      "Homer_Simpson: How could you, Barney? After all I've done for you.\n",
      "Teenage_Barney: (INTELLIGENT) Lachrymose is to dyspeptic as ebullient is to... (THINKS) effervescent! (CHECKS ANSWER) All right! Harvard here I come!\n",
      "Teenage_Barney: All right. Just one -- if it'll get you off my back.\n",
      "Teenage_Barney: Hey, where have (BELCHES \"YOU\") been all my life?\n",
      "\n",
      "\n",
      "Moe_Szyslak: Let's have a minute of silent prayer for our good friend Homer Simpson.\n",
      "Barney_Gumble: How long has it been?\n",
      "Moe_Szyslak: Six seconds.\n",
      "Barney_Gumble: Do we have to start over?\n",
      "Moe_Szyslak: Hell, no.\n",
      "\n",
      "\n",
      "Moe_Szyslak: (READING) \"To Moe -- From Your Secret Admirer.\"\n",
      "Barney_Gumble: (GIVES A LITTLE WAVE) Yoo hoo!\n",
      "Moe_Szyslak: Oh, God, no.\n",
      "\n",
      "\n",
      "Moe_Szyslak: (SNIDE) Well, well look who it is. Mr. \"I don't need alcohol to enjoy life.\" We hate him, right fellas?\n",
      "Homer_Simpson: Moe, gimme a beer.\n",
      "Moe_Szyslak: (CHEERY) Hey everybody! Homer's back!\n",
      "Moe_Szyslak: (A LITTLE TOO DESPERATE) C'mon Homer. Do it for your old pal Moesy.\n",
      "Barney_Gumble: But Moe. Yesterday you called Homer a worthless sack of...\n",
      "Moe_Szyslak: Pipe down, rub-a-dub.\n",
      "Barney_Gumble: Ow.\n",
      "Homer_Simpson: Put it in the fridge, Moe. I got a date with my wife.\n",
      "Moe_Szyslak: You'll be back. (POINTING AROUND) And so will you... and you... And you!\n",
      "Barney_Gumble: Of course I'll be back. If you didn't close, I'd never leave.\n",
      "\n",
      "\n",
      "Anthony_Kiedis: You told our agent this place holds thirty-thousand people.\n",
      "Moe_Szyslak: (LYING) It does. We had thirty thousand here last night. Now play. The audience is gettin' restless.\n",
      "Barney_Gumble: We want Chilly Willy! We want Chilly Willy!\n",
      "Bart_Simpson: Hey, Red Hot Chili Peppers. Would you guys like to appear on a Krusty the Klown Special?\n",
      "Flea: (ASIDE) Sure -- if you get us out of this gig.\n",
      "Bart_Simpson: No problemo. (POINTS) Hey, Moe! Look over there.\n",
      "Moe_Szyslak: What?... What am I lookin' at? I don't see nothin'. I'm gonna stop looking soon... What... what, is that it?\n",
      "Homer_Simpson: Hey, Moe, can I look too?\n",
      "Moe_Szyslak: Sure, but it'll cost ya.\n",
      "Homer_Simpson: (EXCITED) My wallet's in the car.\n",
      "Moe_Szyslak: He is so stupid. And now, back to the wall... (HE STARES)\n",
      "Miss_Lois_Pennycandy: Here's that ruby-studded clown nose you ordered, Krusty. (HOLDS IT UP)\n",
      "Johnny_Carson: Now, Krusty, I just hope you remembered to save your money this time.\n",
      "Moe_Szyslak: Hey you can't come in here dressed like that.\n",
      "Dr._Julius_Hibbert: Get with the times, Moe.\n",
      "Chief_Wiggum: Yeah. I say, if it feels good, do it.\n",
      "Dr._Julius_Hibbert: All right.\n",
      "Chief_Wiggum: Don't snap my undies.\n",
      "Krusty_the_Clown: I'm a star again. (WARMLY) I don't know how to thank you kids.\n",
      "Bart_Simpson: That's alright, Krusty.\n",
      "Lisa_Simpson: We're getting 50% of the T-shirt sales.\n",
      "Krusty_the_Clown: (MAD) What!? That's the sweetest plum. You... little... (THEN) Ahh. What the Hell. You deserve it. Thanks kids.\n",
      "Bart_Simpson: To Krusty. The greatest entertainer in the world. (POINTS) Except maybe that guy.\n",
      "Grampa_Simpson: Is this the bus to the Civic Center?\n",
      "\n",
      "\n",
      "Seymour_Skinner: (SINGING) Hello...\n",
      "Homer_Simpson: (SINGING) Hello...\n",
      "Chief_Wiggum: (SINGING) Hello...\n",
      "Apu_Nahasapeemapetilon: (SINGING) Hello...\n",
      "All: (SINGING) HELLO, MA BABY / HELLO, MA HONEY / HELLO, MA RAGTIME, RAGTIME GAL / SEND ME A KISS BY WIRE... ETC.\n",
      "Homer_Simpson: Every afternoon at Moe's, Chief Wiggum, Principal Skinner, Apu and I would get together and sing... and the crowds went wild.\n",
      "Barney_Gumble: Yoo hoo!\n",
      "Homer_Simpson: (SINGS) SO GOODBYE...\n",
      "Chief_Wiggum: (SINGS) FAREWELL...\n",
      "Apu_Nahasapeemapetilon: (SINGS) SHOP KWIK-E-MART AND SAVE...\n",
      "All: GOODBYE MY CONEY ISLE / GOODBYE MY CONEY ISLE / GOODBYE MY CONEY ISLAND BABE!\n",
      "Nigel_Bakerbutcher: Homer, I'm a theatrical agent, and I want to represent your group.\n",
      "Homer_Simpson: Really?\n",
      "Nigel_Bakerbutcher: Yeah!\n",
      "Nigel_Bakerbutcher: You've got... it! (DISTASTE) All except that police officer. (DISGUSTED NOISE) Too Village People. You'll have to replace him.\n",
      "Homer_Simpson: (SLY) Just leave it to me.\n",
      "Seymour_Skinner: (SHAKING HANDS) Principal Seymour Skinner.\n",
      "Apu_Nahasapeemapetilon: Apu Nahasapeemapetilon.\n",
      "Nigel_Bakerbutcher: Never fit on a marquee, luv. From now on, your name is Apu Du Beaumarchais.\n",
      "Apu_Nahasapeemapetilon: It is a great dishonor to my ancestors and my God, but okay.\n",
      "Homer_Simpson: It was one lousy applicant after another. And then...\n",
      "Tenor: (SINGING) OVER IN KILLARNEY / SO MANY YEARS AGO...\n",
      "Apu_Nahasapeemapetilon: Such a voice!\n",
      "Seymour_Skinner: Who is that?\n",
      "Tenor: (SINGING) ME MITHER SANG THIS SONG TO ME / IN TONES SO SOFT AND (BELCH)...\n",
      "Apu_Nahasapeemapetilon: Barney!\n",
      "Crowd: (CHANTING) WIGGUM FOREVER, BARNEY NEVER! WIGGUM FOREVER, BARNEY NEVER!...\n",
      "Barney_Gumble: (SINGS) SWE-EE-EE-EE-EET ADELEINE.\n",
      "Seymour_Skinner: (SINGS) SWEET ADELEINE.\n",
      "Barney_Gumble: (SINGS) MY-Y-Y-Y-Y-Y ADELEINE.\n",
      "Seymour_Skinner: (SINGS) MY ADELEINE....\n",
      "Crowd: (CHANTING) BARNEY FOREVER, WIGGUM NEVER! BARNEY FOREVER, WIGGUM NEVER!...\n",
      "Moe_Szyslak: Hey, those girls you paid to scream are doing a great job.\n",
      "Nigel_Bakerbutcher: I didn't pay any girls to scream.\n",
      "Moe_Szyslak: (TOO BIG) Hanh?!!!\n",
      "All: (AD LIB) Look at this. / We sounded great, huh? / Etc.\n",
      "Seymour_Skinner: Only one question remains gentlemen. What do we call ourselves?\n",
      "Nigel_Bakerbutcher: How about Handsome Homer Simpson Plus Three?\n",
      "Barney_Gumble: I like it.\n",
      "Seymour_Skinner: We need a name that's witty at first, but that seems less funny each time you hear it.\n",
      "Apu_Nahasapeemapetilon: How about The Be Sharps!\n",
      "Seymour_Skinner: Perfect.\n",
      "Homer_Simpson: The Be Sharps.\n",
      "Seymour_Skinner: The Be Sharps.\n",
      "Barney_Gumble: The Be Sharps.\n",
      "Chief_Wiggum: The Be Sharps. (NERVOUS CHUCKLE)\n",
      "Chief_Wiggum: (NERVOUS CHUCKLE) well, can't blame a guy for trying. (NERVOUS CHUCKLE) Aw, you're all under arrest.\n",
      "Moe_Szyslak: (FRIENDLY) Hey, Barney, what'll it be?\n",
      "Barney_Gumble: I'd like a beer Moe.\n",
      "Kako: I'd like a single plum floating in perfume, served in a man's hat.\n",
      "Moe_Szyslak: Here you go.\n",
      "\n",
      "\n",
      "Lisa_Simpson: We know you're the one behind this. So knock it off or we're going to the cops.\n",
      "Moe_Szyslak: (QUIETLY) No no, I'll take care of it.\n",
      "Moe_Szyslak: Okay it's over! Get 'em out of here!\n",
      "Moe_Szyslak: (TO BEARS) All right, andalay! Andalay!\n",
      "\n",
      "\n",
      "Homer_Simpson: Sometimes you gotta go where everybody knows your name.\n",
      "Homer_Simpson: (VERY UP) Hi guys!\n",
      "Homer_Simpson: Moe, get the darts. I want to play.\n",
      "Moe_Szyslak: No. We're phasing out the games. People drink less when they're havin' fun.\n",
      "\n",
      "\n",
      "Homer_Simpson: Moe, I need your advice.\n",
      "Moe_Szyslak: Yeah.\n",
      "Homer_Simpson: See, I got this friend named...(PAUSE) Joey Joe Joe Junior... (PAUSE) Schabadoo.\n",
      "Moe_Szyslak: That's the worst name I ever heard.\n"
     ]
    }
   ],
   "source": [
    "view_sentence_range = (0, 500)\n",
    "\n",
    "\"\"\"\n",
    "DON'T MODIFY ANYTHING IN THIS CELL\n",
    "\"\"\"\n",
    "import numpy as np\n",
    "\n",
    "print('Dataset Stats')\n",
    "print('Roughly the number of unique words: {}'.format(len({word: None for word in text.split()})))\n",
    "scenes = text.split('\\n\\n')\n",
    "print('Number of scenes: {}'.format(len(scenes)))\n",
    "sentence_count_scene = [scene.count('\\n') for scene in scenes]\n",
    "print('Average number of sentences in each scene: {}'.format(np.average(sentence_count_scene)))\n",
    "\n",
    "sentences = [sentence for scene in scenes for sentence in scene.split('\\n')]\n",
    "print('Number of lines: {}'.format(len(sentences)))\n",
    "word_count_sentence = [len(sentence.split()) for sentence in sentences]\n",
    "print('Average number of words in each line: {}'.format(np.average(word_count_sentence)))\n",
    "\n",
    "print()\n",
    "print('The sentences {} to {}:'.format(*view_sentence_range))\n",
    "print('\\n'.join(text.split('\\n')[view_sentence_range[0]:view_sentence_range[1]]))"
   ]
  },
  {
   "cell_type": "markdown",
   "metadata": {
    "deletable": true,
    "editable": true
   },
   "source": [
    "## Implement Preprocessing Functions\n",
    "The first thing to do to any dataset is preprocessing.  Implement the following preprocessing functions below:\n",
    "- Lookup Table\n",
    "- Tokenize Punctuation\n",
    "\n",
    "### Lookup Table\n",
    "To create a word embedding, you first need to transform the words to ids.  In this function, create two dictionaries:\n",
    "- Dictionary to go from the words to an id, we'll call `vocab_to_int`\n",
    "- Dictionary to go from the id to word, we'll call `int_to_vocab`\n",
    "\n",
    "Return these dictionaries in the following tuple `(vocab_to_int, int_to_vocab)`"
   ]
  },
  {
   "cell_type": "code",
   "execution_count": 6,
   "metadata": {
    "collapsed": false,
    "deletable": true,
    "editable": true
   },
   "outputs": [
    {
     "name": "stdout",
     "output_type": "stream",
     "text": [
      "Tests Passed\n"
     ]
    }
   ],
   "source": [
    "import numpy as np\n",
    "import problem_unittests as tests\n",
    "\n",
    "def create_lookup_tables(text):\n",
    "    \"\"\"\n",
    "    Create lookup tables for vocabulary\n",
    "    :param text: The text of tv scripts split into words\n",
    "    :return: A tuple of dicts (vocab_to_int, int_to_vocab)\n",
    "    \"\"\"\n",
    "    # TODO: Implement Function\n",
    "    text = list(set(text))\n",
    "    vocab_to_int = {}\n",
    "    int_to_vocab = {}\n",
    "    for i in range(len(text)):\n",
    "        vocab_to_int[text[i]] = i\n",
    "        int_to_vocab[i] = text[i]\n",
    "    return vocab_to_int, int_to_vocab\n",
    "\n",
    "\n",
    "\"\"\"\n",
    "DON'T MODIFY ANYTHING IN THIS CELL THAT IS BELOW THIS LINE\n",
    "\"\"\"\n",
    "tests.test_create_lookup_tables(create_lookup_tables)"
   ]
  },
  {
   "cell_type": "markdown",
   "metadata": {
    "deletable": true,
    "editable": true
   },
   "source": [
    "### Tokenize Punctuation\n",
    "We'll be splitting the script into a word array using spaces as delimiters.  However, punctuations like periods and exclamation marks make it hard for the neural network to distinguish between the word \"bye\" and \"bye!\".\n",
    "\n",
    "Implement the function `token_lookup` to return a dict that will be used to tokenize symbols like \"!\" into \"||Exclamation_Mark||\".  Create a dictionary for the following symbols where the symbol is the key and value is the token:\n",
    "- Period ( . )\n",
    "- Comma ( , )\n",
    "- Quotation Mark ( \" )\n",
    "- Semicolon ( ; )\n",
    "- Exclamation mark ( ! )\n",
    "- Question mark ( ? )\n",
    "- Left Parentheses ( ( )\n",
    "- Right Parentheses ( ) )\n",
    "- Dash ( -- )\n",
    "- Return ( \\n )\n",
    "\n",
    "This dictionary will be used to token the symbols and add the delimiter (space) around it.  This separates the symbols as it's own word, making it easier for the neural network to predict on the next word. Make sure you don't use a token that could be confused as a word. Instead of using the token \"dash\", try using something like \"||dash||\"."
   ]
  },
  {
   "cell_type": "code",
   "execution_count": 7,
   "metadata": {
    "collapsed": false,
    "deletable": true,
    "editable": true
   },
   "outputs": [
    {
     "name": "stdout",
     "output_type": "stream",
     "text": [
      "Tests Passed\n"
     ]
    }
   ],
   "source": [
    "def token_lookup():\n",
    "    \"\"\"\n",
    "    Generate a dict to turn punctuation into a token.\n",
    "    :return: Tokenize dictionary where the key is the punctuation and the value is the token\n",
    "    \"\"\"\n",
    "    # TODO: Implement Function\n",
    "    punc = {}\n",
    "    punc['.'] = '||Period||'\n",
    "    punc[','] = '||Comma||'\n",
    "    punc['\"'] = '||Quotation_Mark||'\n",
    "    punc[';'] = '||Semicolon||'\n",
    "    punc['!'] = '||Exclamation_Mark||'\n",
    "    punc['?'] = '||Question_Mark||'\n",
    "    punc['('] = '||Left_Parantheses||'\n",
    "    punc[')'] = '||Right_Parantheses||'\n",
    "    punc['--'] = '||Dash||'\n",
    "    punc['\\n'] = '||Return||'\n",
    "    return punc\n",
    "\n",
    "\"\"\"\n",
    "DON'T MODIFY ANYTHING IN THIS CELL THAT IS BELOW THIS LINE\n",
    "\"\"\"\n",
    "tests.test_tokenize(token_lookup)"
   ]
  },
  {
   "cell_type": "markdown",
   "metadata": {
    "deletable": true,
    "editable": true
   },
   "source": [
    "## Preprocess all the data and save it\n",
    "Running the code cell below will preprocess all the data and save it to file."
   ]
  },
  {
   "cell_type": "code",
   "execution_count": 8,
   "metadata": {
    "collapsed": false,
    "deletable": true,
    "editable": true
   },
   "outputs": [],
   "source": [
    "\"\"\"\n",
    "DON'T MODIFY ANYTHING IN THIS CELL\n",
    "\"\"\"\n",
    "# Preprocess Training, Validation, and Testing Data\n",
    "helper.preprocess_and_save_data(data_dir, token_lookup, create_lookup_tables)"
   ]
  },
  {
   "cell_type": "markdown",
   "metadata": {
    "deletable": true,
    "editable": true
   },
   "source": [
    "# Check Point\n",
    "This is your first checkpoint. If you ever decide to come back to this notebook or have to restart the notebook, you can start from here. The preprocessed data has been saved to disk."
   ]
  },
  {
   "cell_type": "code",
   "execution_count": 9,
   "metadata": {
    "collapsed": false,
    "deletable": true,
    "editable": true
   },
   "outputs": [],
   "source": [
    "\"\"\"\n",
    "DON'T MODIFY ANYTHING IN THIS CELL\n",
    "\"\"\"\n",
    "import helper\n",
    "import numpy as np\n",
    "import problem_unittests as tests\n",
    "\n",
    "int_text, vocab_to_int, int_to_vocab, token_dict = helper.load_preprocess()"
   ]
  },
  {
   "cell_type": "markdown",
   "metadata": {
    "deletable": true,
    "editable": true
   },
   "source": [
    "## Build the Neural Network\n",
    "You'll build the components necessary to build a RNN by implementing the following functions below:\n",
    "- get_inputs\n",
    "- get_init_cell\n",
    "- get_embed\n",
    "- build_rnn\n",
    "- build_nn\n",
    "- get_batches\n",
    "\n",
    "### Check the Version of TensorFlow and Access to GPU"
   ]
  },
  {
   "cell_type": "code",
   "execution_count": 10,
   "metadata": {
    "collapsed": false,
    "deletable": true,
    "editable": true
   },
   "outputs": [
    {
     "name": "stdout",
     "output_type": "stream",
     "text": [
      "TensorFlow Version: 1.0.0\n"
     ]
    },
    {
     "name": "stderr",
     "output_type": "stream",
     "text": [
      "/Users/madhuvanthiguruprasad/anaconda/envs/tensorflow/lib/python3.5/site-packages/ipykernel/__main__.py:14: UserWarning: No GPU found. Please use a GPU to train your neural network.\n"
     ]
    }
   ],
   "source": [
    "\"\"\"\n",
    "DON'T MODIFY ANYTHING IN THIS CELL\n",
    "\"\"\"\n",
    "from distutils.version import LooseVersion\n",
    "import warnings\n",
    "import tensorflow as tf\n",
    "\n",
    "# Check TensorFlow Version\n",
    "assert LooseVersion(tf.__version__) >= LooseVersion('1.0'), 'Please use TensorFlow version 1.0 or newer'\n",
    "print('TensorFlow Version: {}'.format(tf.__version__))\n",
    "\n",
    "# Check for a GPU\n",
    "if not tf.test.gpu_device_name():\n",
    "    warnings.warn('No GPU found. Please use a GPU to train your neural network.')\n",
    "else:\n",
    "    print('Default GPU Device: {}'.format(tf.test.gpu_device_name()))"
   ]
  },
  {
   "cell_type": "markdown",
   "metadata": {
    "deletable": true,
    "editable": true
   },
   "source": [
    "### Input\n",
    "Implement the `get_inputs()` function to create TF Placeholders for the Neural Network.  It should create the following placeholders:\n",
    "- Input text placeholder named \"input\" using the [TF Placeholder](https://www.tensorflow.org/api_docs/python/tf/placeholder) `name` parameter.\n",
    "- Targets placeholder\n",
    "- Learning Rate placeholder\n",
    "\n",
    "Return the placeholders in the following tuple `(Input, Targets, LearningRate)`"
   ]
  },
  {
   "cell_type": "code",
   "execution_count": 12,
   "metadata": {
    "collapsed": false,
    "deletable": true,
    "editable": true
   },
   "outputs": [
    {
     "name": "stdout",
     "output_type": "stream",
     "text": [
      "Tests Passed\n"
     ]
    }
   ],
   "source": [
    "def get_inputs():\n",
    "    \"\"\"\n",
    "    Create TF Placeholders for input, targets, and learning rate.\n",
    "    :return: Tuple (input, targets, learning rate)\n",
    "    \"\"\"\n",
    "    # TODO: Implement Function\n",
    "    input_ = tf.placeholder(tf.int32, [None, None], name=\"input\")\n",
    "    targets = tf.placeholder(tf.int32, [None, None], name=\"targets\")\n",
    "    learning_rate = tf.placeholder(tf.float32, name=\"learning_rate\")\n",
    "    return input_, targets, learning_rate\n",
    "\n",
    "\n",
    "\"\"\"\n",
    "DON'T MODIFY ANYTHING IN THIS CELL THAT IS BELOW THIS LINE\n",
    "\"\"\"\n",
    "tests.test_get_inputs(get_inputs)"
   ]
  },
  {
   "cell_type": "markdown",
   "metadata": {
    "deletable": true,
    "editable": true
   },
   "source": [
    "### Build RNN Cell and Initialize\n",
    "Stack one or more [`BasicLSTMCells`](https://www.tensorflow.org/api_docs/python/tf/contrib/rnn/BasicLSTMCell) in a [`MultiRNNCell`](https://www.tensorflow.org/api_docs/python/tf/contrib/rnn/MultiRNNCell).\n",
    "- The Rnn size should be set using `rnn_size`\n",
    "- Initalize Cell State using the MultiRNNCell's [`zero_state()`](https://www.tensorflow.org/api_docs/python/tf/contrib/rnn/MultiRNNCell#zero_state) function\n",
    "    - Apply the name \"initial_state\" to the initial state using [`tf.identity()`](https://www.tensorflow.org/api_docs/python/tf/identity)\n",
    "\n",
    "Return the cell and initial state in the following tuple `(Cell, InitialState)`"
   ]
  },
  {
   "cell_type": "code",
   "execution_count": 14,
   "metadata": {
    "collapsed": false,
    "deletable": true,
    "editable": true
   },
   "outputs": [
    {
     "name": "stdout",
     "output_type": "stream",
     "text": [
      "Tests Passed\n"
     ]
    }
   ],
   "source": [
    "def get_init_cell(batch_size, rnn_size):\n",
    "    \"\"\"\n",
    "    Create an RNN Cell and initialize it.\n",
    "    :param batch_size: Size of batches\n",
    "    :param rnn_size: Size of RNNs\n",
    "    :return: Tuple (cell, initialize state)\n",
    "    \"\"\"\n",
    "    # TODO: Implement Function\n",
    "    lstm = tf.contrib.rnn.BasicLSTMCell(num_units=rnn_size)\n",
    "    drop = tf.contrib.rnn.DropoutWrapper(lstm, output_keep_prob=0.8)\n",
    "    cell = tf.contrib.rnn.MultiRNNCell([drop] * 2)\n",
    "    initial_state = tf.identity(cell.zero_state(batch_size, tf.float32), name=\"initial_state\")\n",
    "    return cell, initial_state\n",
    "\n",
    "\n",
    "\"\"\"\n",
    "DON'T MODIFY ANYTHING IN THIS CELL THAT IS BELOW THIS LINE\n",
    "\"\"\"\n",
    "tests.test_get_init_cell(get_init_cell)"
   ]
  },
  {
   "cell_type": "markdown",
   "metadata": {
    "deletable": true,
    "editable": true
   },
   "source": [
    "### Word Embedding\n",
    "Apply embedding to `input_data` using TensorFlow.  Return the embedded sequence."
   ]
  },
  {
   "cell_type": "code",
   "execution_count": 15,
   "metadata": {
    "collapsed": false,
    "deletable": true,
    "editable": true
   },
   "outputs": [
    {
     "name": "stdout",
     "output_type": "stream",
     "text": [
      "Tests Passed\n"
     ]
    }
   ],
   "source": [
    "def get_embed(input_data, vocab_size, embed_dim):\n",
    "    \"\"\"\n",
    "    Create embedding for <input_data>.\n",
    "    :param input_data: TF placeholder for text input.\n",
    "    :param vocab_size: Number of words in vocabulary.\n",
    "    :param embed_dim: Number of embedding dimensions\n",
    "    :return: Embedded input.\n",
    "    \"\"\"\n",
    "    # TODO: Implement Function\n",
    "    embedding = tf.Variable(tf.random_normal((vocab_size, embed_dim), -1, 1))\n",
    "    embed = tf.nn.embedding_lookup(embedding, input_data)\n",
    "    return embed\n",
    "\n",
    "\n",
    "\"\"\"\n",
    "DON'T MODIFY ANYTHING IN THIS CELL THAT IS BELOW THIS LINE\n",
    "\"\"\"\n",
    "tests.test_get_embed(get_embed)"
   ]
  },
  {
   "cell_type": "markdown",
   "metadata": {
    "deletable": true,
    "editable": true
   },
   "source": [
    "### Build RNN\n",
    "You created a RNN Cell in the `get_init_cell()` function.  Time to use the cell to create a RNN.\n",
    "- Build the RNN using the [`tf.nn.dynamic_rnn()`](https://www.tensorflow.org/api_docs/python/tf/nn/dynamic_rnn)\n",
    " - Apply the name \"final_state\" to the final state using [`tf.identity()`](https://www.tensorflow.org/api_docs/python/tf/identity)\n",
    "\n",
    "Return the outputs and final_state state in the following tuple `(Outputs, FinalState)` "
   ]
  },
  {
   "cell_type": "code",
   "execution_count": 23,
   "metadata": {
    "collapsed": false,
    "deletable": true,
    "editable": true
   },
   "outputs": [
    {
     "name": "stdout",
     "output_type": "stream",
     "text": [
      "Tests Passed\n"
     ]
    }
   ],
   "source": [
    "def build_rnn(cell, inputs):\n",
    "    \"\"\"\n",
    "    Create a RNN using a RNN Cell\n",
    "    :param cell: RNN Cell\n",
    "    :param inputs: Input text data\n",
    "    :return: Tuple (Outputs, Final State)\n",
    "    \"\"\"\n",
    "    # TODO: Implement Function\n",
    "    outputs, fstate = tf.nn.dynamic_rnn(cell, inputs, dtype=tf.float32)\n",
    "    final_state = tf.identity(fstate, name=\"final_state\")\n",
    "    return outputs, final_state\n",
    "\n",
    "\n",
    "\"\"\"\n",
    "DON'T MODIFY ANYTHING IN THIS CELL THAT IS BELOW THIS LINE\n",
    "\"\"\"\n",
    "tests.test_build_rnn(build_rnn)"
   ]
  },
  {
   "cell_type": "markdown",
   "metadata": {
    "deletable": true,
    "editable": true
   },
   "source": [
    "### Build the Neural Network\n",
    "Apply the functions you implemented above to:\n",
    "- Apply embedding to `input_data` using your `get_embed(input_data, vocab_size, embed_dim)` function.\n",
    "- Build RNN using `cell` and your `build_rnn(cell, inputs)` function.\n",
    "- Apply a fully connected layer with a linear activation and `vocab_size` as the number of outputs.\n",
    "\n",
    "Return the logits and final state in the following tuple (Logits, FinalState) "
   ]
  },
  {
   "cell_type": "code",
   "execution_count": 30,
   "metadata": {
    "collapsed": false,
    "deletable": true,
    "editable": true
   },
   "outputs": [
    {
     "name": "stdout",
     "output_type": "stream",
     "text": [
      "Tests Passed\n"
     ]
    }
   ],
   "source": [
    "def build_nn(cell, rnn_size, input_data, vocab_size, embed_dim):\n",
    "    \"\"\"\n",
    "    Build part of the neural network\n",
    "    :param cell: RNN cell\n",
    "    :param rnn_size: Size of rnns\n",
    "    :param input_data: Input data\n",
    "    :param vocab_size: Vocabulary size\n",
    "    :param embed_dim: Number of embedding dimensions\n",
    "    :return: Tuple (Logits, FinalState)\n",
    "    \"\"\"\n",
    "    # TODO: Implement Function\n",
    "    embedding_layer = get_embed(input_data, vocab_size, embed_dim)\n",
    "    outputs, final_state = build_rnn(cell, embedding_layer)\n",
    "    logits = tf.contrib.layers.fully_connected(outputs, vocab_size, activation_fn=tf.sigmoid)\n",
    "    return logits, final_state\n",
    "\n",
    "\n",
    "\"\"\"\n",
    "DON'T MODIFY ANYTHING IN THIS CELL THAT IS BELOW THIS LINE\n",
    "\"\"\"\n",
    "tests.test_build_nn(build_nn)"
   ]
  },
  {
   "cell_type": "markdown",
   "metadata": {
    "deletable": true,
    "editable": true
   },
   "source": [
    "### Batches\n",
    "Implement `get_batches` to create batches of input and targets using `int_text`.  The batches should be a Numpy array with the shape `(number of batches, 2, batch size, sequence length)`. Each batch contains two elements:\n",
    "- The first element is a single batch of **input** with the shape `[batch size, sequence length]`\n",
    "- The second element is a single batch of **targets** with the shape `[batch size, sequence length]`\n",
    "\n",
    "If you can't fill the last batch with enough data, drop the last batch.\n",
    "\n",
    "For exmple, `get_batches([1, 2, 3, 4, 5, 6, 7, 8, 9, 10, 11, 12, 13, 14, 15, 16, 17, 18, 19, 20], 3, 2)` would return a Numpy array of the following:\n",
    "```\n",
    "[\n",
    "  # First Batch\n",
    "  [\n",
    "    # Batch of Input\n",
    "    [[ 1  2], [ 7  8], [13 14]]\n",
    "    # Batch of targets\n",
    "    [[ 2  3], [ 8  9], [14 15]]\n",
    "  ]\n",
    "\n",
    "  # Second Batch\n",
    "  [\n",
    "    # Batch of Input\n",
    "    [[ 3  4], [ 9 10], [15 16]]\n",
    "    # Batch of targets\n",
    "    [[ 4  5], [10 11], [16 17]]\n",
    "  ]\n",
    "\n",
    "  # Third Batch\n",
    "  [\n",
    "    # Batch of Input\n",
    "    [[ 5  6], [11 12], [17 18]]\n",
    "    # Batch of targets\n",
    "    [[ 6  7], [12 13], [18  1]]\n",
    "  ]\n",
    "]\n",
    "```\n",
    "\n",
    "Notice that the last target value in the last batch is the first input value of the first batch. In this case, `1`. This is a common technique used when creating sequence batches, although it is rather unintuitive."
   ]
  },
  {
   "cell_type": "code",
   "execution_count": 38,
   "metadata": {
    "collapsed": false,
    "deletable": true,
    "editable": true
   },
   "outputs": [
    {
     "name": "stdout",
     "output_type": "stream",
     "text": [
      "Tests Passed\n"
     ]
    }
   ],
   "source": [
    "def get_batches(int_text, batch_size, seq_length):\n",
    "    \"\"\"\n",
    "    Return batches of input and target\n",
    "    :param int_text: Text with the words replaced by their ids\n",
    "    :param batch_size: The size of batch\n",
    "    :param seq_length: The length of sequence\n",
    "    :return: Batches as a Numpy array\n",
    "    \"\"\"\n",
    "    # TODO: Implement Function\n",
    "    int_text = np.array(int_text, dtype=int)\n",
    "    words_per_batch = batch_size * seq_length\n",
    "    n_batches = len(int_text)//words_per_batch\n",
    "    \n",
    "    trimmed = int_text[:n_batches * words_per_batch]\n",
    "    target = np.roll(trimmed, -1)\n",
    "    \n",
    "    trimmed = trimmed.reshape((batch_size, -1))\n",
    "    target = target.reshape((batch_size, -1))\n",
    "    output = np.zeros(shape=[n_batches, 2, batch_size, seq_length], dtype=int)\n",
    "    b = 0\n",
    "    for n in range(0, trimmed.shape[1], seq_length):\n",
    "        output[b][0] = trimmed[:, n:n+seq_length]\n",
    "        output[b][1] = target[:, n:n+seq_length]\n",
    "        b += 1\n",
    "    return output\n",
    "\n",
    "\"\"\"\n",
    "DON'T MODIFY ANYTHING IN THIS CELL THAT IS BELOW THIS LINE\n",
    "\"\"\"\n",
    "tests.test_get_batches(get_batches)"
   ]
  },
  {
   "cell_type": "markdown",
   "metadata": {
    "deletable": true,
    "editable": true
   },
   "source": [
    "## Neural Network Training\n",
    "### Hyperparameters\n",
    "Tune the following parameters:\n",
    "\n",
    "- Set `num_epochs` to the number of epochs.\n",
    "- Set `batch_size` to the batch size.\n",
    "- Set `rnn_size` to the size of the RNNs.\n",
    "- Set `embed_dim` to the size of the embedding.\n",
    "- Set `seq_length` to the length of sequence.\n",
    "- Set `learning_rate` to the learning rate.\n",
    "- Set `show_every_n_batches` to the number of batches the neural network should print progress."
   ]
  },
  {
   "cell_type": "code",
   "execution_count": 39,
   "metadata": {
    "collapsed": true,
    "deletable": true,
    "editable": true
   },
   "outputs": [],
   "source": [
    "# Number of Epochs\n",
    "num_epochs = 2\n",
    "# Batch Size\n",
    "batch_size = 30\n",
    "# RNN Size\n",
    "rnn_size = 256\n",
    "# Embedding Dimension Size\n",
    "embed_dim = 200\n",
    "# Sequence Length\n",
    "seq_length = 10\n",
    "# Learning Rate\n",
    "learning_rate = 0.01\n",
    "# Show stats for every n number of batches\n",
    "show_every_n_batches = 5\n",
    "\n",
    "\"\"\"\n",
    "DON'T MODIFY ANYTHING IN THIS CELL THAT IS BELOW THIS LINE\n",
    "\"\"\"\n",
    "save_dir = './save'"
   ]
  },
  {
   "cell_type": "markdown",
   "metadata": {
    "deletable": true,
    "editable": true
   },
   "source": [
    "### Build the Graph\n",
    "Build the graph using the neural network you implemented."
   ]
  },
  {
   "cell_type": "code",
   "execution_count": 40,
   "metadata": {
    "collapsed": false,
    "deletable": true,
    "editable": true
   },
   "outputs": [],
   "source": [
    "\"\"\"\n",
    "DON'T MODIFY ANYTHING IN THIS CELL\n",
    "\"\"\"\n",
    "from tensorflow.contrib import seq2seq\n",
    "\n",
    "train_graph = tf.Graph()\n",
    "with train_graph.as_default():\n",
    "    vocab_size = len(int_to_vocab)\n",
    "    input_text, targets, lr = get_inputs()\n",
    "    input_data_shape = tf.shape(input_text)\n",
    "    cell, initial_state = get_init_cell(input_data_shape[0], rnn_size)\n",
    "    logits, final_state = build_nn(cell, rnn_size, input_text, vocab_size, embed_dim)\n",
    "\n",
    "    # Probabilities for generating words\n",
    "    probs = tf.nn.softmax(logits, name='probs')\n",
    "\n",
    "    # Loss function\n",
    "    cost = seq2seq.sequence_loss(\n",
    "        logits,\n",
    "        targets,\n",
    "        tf.ones([input_data_shape[0], input_data_shape[1]]))\n",
    "\n",
    "    # Optimizer\n",
    "    optimizer = tf.train.AdamOptimizer(lr)\n",
    "\n",
    "    # Gradient Clipping\n",
    "    gradients = optimizer.compute_gradients(cost)\n",
    "    capped_gradients = [(tf.clip_by_value(grad, -1., 1.), var) for grad, var in gradients if grad is not None]\n",
    "    train_op = optimizer.apply_gradients(capped_gradients)"
   ]
  },
  {
   "cell_type": "markdown",
   "metadata": {
    "deletable": true,
    "editable": true
   },
   "source": [
    "## Train\n",
    "Train the neural network on the preprocessed data.  If you have a hard time getting a good loss, check the [forums](https://discussions.udacity.com/) to see if anyone is having the same problem."
   ]
  },
  {
   "cell_type": "code",
   "execution_count": 41,
   "metadata": {
    "collapsed": false,
    "deletable": true,
    "editable": true
   },
   "outputs": [
    {
     "name": "stdout",
     "output_type": "stream",
     "text": [
      "Epoch   0 Batch    0/230   train_loss = 8.821\n",
      "Epoch   0 Batch    5/230   train_loss = 8.241\n",
      "Epoch   0 Batch   10/230   train_loss = 8.169\n",
      "Epoch   0 Batch   15/230   train_loss = 8.186\n",
      "Epoch   0 Batch   20/230   train_loss = 8.192\n",
      "Epoch   0 Batch   25/230   train_loss = 8.171\n",
      "Epoch   0 Batch   30/230   train_loss = 8.187\n",
      "Epoch   0 Batch   35/230   train_loss = 8.166\n",
      "Epoch   0 Batch   40/230   train_loss = 8.182\n",
      "Epoch   0 Batch   45/230   train_loss = 8.180\n",
      "Epoch   0 Batch   50/230   train_loss = 8.178\n",
      "Epoch   0 Batch   55/230   train_loss = 8.148\n",
      "Epoch   0 Batch   60/230   train_loss = 8.127\n",
      "Epoch   0 Batch   65/230   train_loss = 8.168\n",
      "Epoch   0 Batch   70/230   train_loss = 8.193\n",
      "Epoch   0 Batch   75/230   train_loss = 8.175\n",
      "Epoch   0 Batch   80/230   train_loss = 8.142\n",
      "Epoch   0 Batch   85/230   train_loss = 8.199\n",
      "Epoch   0 Batch   90/230   train_loss = 8.139\n",
      "Epoch   0 Batch   95/230   train_loss = 8.171\n",
      "Epoch   0 Batch  100/230   train_loss = 8.171\n",
      "Epoch   0 Batch  105/230   train_loss = 8.195\n",
      "Epoch   0 Batch  110/230   train_loss = 8.183\n",
      "Epoch   0 Batch  115/230   train_loss = 8.189\n",
      "Epoch   0 Batch  120/230   train_loss = 8.119\n",
      "Epoch   0 Batch  125/230   train_loss = 8.206\n",
      "Epoch   0 Batch  130/230   train_loss = 8.176\n",
      "Epoch   0 Batch  135/230   train_loss = 8.176\n",
      "Epoch   0 Batch  140/230   train_loss = 8.155\n",
      "Epoch   0 Batch  145/230   train_loss = 8.130\n",
      "Epoch   0 Batch  150/230   train_loss = 8.142\n",
      "Epoch   0 Batch  155/230   train_loss = 8.140\n",
      "Epoch   0 Batch  160/230   train_loss = 8.170\n",
      "Epoch   0 Batch  165/230   train_loss = 8.114\n",
      "Epoch   0 Batch  170/230   train_loss = 8.147\n",
      "Epoch   0 Batch  175/230   train_loss = 8.211\n",
      "Epoch   0 Batch  180/230   train_loss = 8.114\n",
      "Epoch   0 Batch  185/230   train_loss = 8.171\n",
      "Epoch   0 Batch  190/230   train_loss = 8.161\n",
      "Epoch   0 Batch  195/230   train_loss = 8.206\n",
      "Epoch   0 Batch  200/230   train_loss = 8.138\n",
      "Epoch   0 Batch  205/230   train_loss = 8.151\n",
      "Epoch   0 Batch  210/230   train_loss = 8.171\n",
      "Epoch   0 Batch  215/230   train_loss = 8.165\n",
      "Epoch   0 Batch  220/230   train_loss = 8.215\n",
      "Epoch   0 Batch  225/230   train_loss = 8.161\n",
      "Epoch   1 Batch    0/230   train_loss = 8.138\n",
      "Epoch   1 Batch    5/230   train_loss = 8.135\n",
      "Epoch   1 Batch   10/230   train_loss = 8.118\n",
      "Epoch   1 Batch   15/230   train_loss = 8.141\n",
      "Epoch   1 Batch   20/230   train_loss = 8.152\n",
      "Epoch   1 Batch   25/230   train_loss = 8.145\n",
      "Epoch   1 Batch   30/230   train_loss = 8.178\n",
      "Epoch   1 Batch   35/230   train_loss = 8.143\n",
      "Epoch   1 Batch   40/230   train_loss = 8.168\n",
      "Epoch   1 Batch   45/230   train_loss = 8.176\n",
      "Epoch   1 Batch   50/230   train_loss = 8.152\n",
      "Epoch   1 Batch   55/230   train_loss = 8.139\n",
      "Epoch   1 Batch   60/230   train_loss = 8.116\n",
      "Epoch   1 Batch   65/230   train_loss = 8.156\n",
      "Epoch   1 Batch   70/230   train_loss = 8.170\n",
      "Epoch   1 Batch   75/230   train_loss = 8.163\n",
      "Epoch   1 Batch   80/230   train_loss = 8.120\n",
      "Epoch   1 Batch   85/230   train_loss = 8.183\n",
      "Epoch   1 Batch   90/230   train_loss = 8.119\n",
      "Epoch   1 Batch   95/230   train_loss = 8.166\n",
      "Epoch   1 Batch  100/230   train_loss = 8.163\n",
      "Epoch   1 Batch  105/230   train_loss = 8.179\n",
      "Epoch   1 Batch  110/230   train_loss = 8.163\n",
      "Epoch   1 Batch  115/230   train_loss = 8.189\n",
      "Epoch   1 Batch  120/230   train_loss = 8.115\n",
      "Epoch   1 Batch  125/230   train_loss = 8.200\n",
      "Epoch   1 Batch  130/230   train_loss = 8.169\n",
      "Epoch   1 Batch  135/230   train_loss = 8.176\n",
      "Epoch   1 Batch  140/230   train_loss = 8.139\n",
      "Epoch   1 Batch  145/230   train_loss = 8.123\n",
      "Epoch   1 Batch  150/230   train_loss = 8.129\n",
      "Epoch   1 Batch  155/230   train_loss = 8.136\n",
      "Epoch   1 Batch  160/230   train_loss = 8.169\n",
      "Epoch   1 Batch  165/230   train_loss = 8.110\n",
      "Epoch   1 Batch  170/230   train_loss = 8.140\n",
      "Epoch   1 Batch  175/230   train_loss = 8.203\n",
      "Epoch   1 Batch  180/230   train_loss = 8.103\n",
      "Epoch   1 Batch  185/230   train_loss = 8.163\n",
      "Epoch   1 Batch  190/230   train_loss = 8.156\n",
      "Epoch   1 Batch  195/230   train_loss = 8.190\n",
      "Epoch   1 Batch  200/230   train_loss = 8.140\n",
      "Epoch   1 Batch  205/230   train_loss = 8.147\n",
      "Epoch   1 Batch  210/230   train_loss = 8.163\n",
      "Epoch   1 Batch  215/230   train_loss = 8.150\n",
      "Epoch   1 Batch  220/230   train_loss = 8.210\n",
      "Epoch   1 Batch  225/230   train_loss = 8.163\n",
      "Model Trained and Saved\n"
     ]
    }
   ],
   "source": [
    "\"\"\"\n",
    "DON'T MODIFY ANYTHING IN THIS CELL\n",
    "\"\"\"\n",
    "batches = get_batches(int_text, batch_size, seq_length)\n",
    "\n",
    "with tf.Session(graph=train_graph) as sess:\n",
    "    sess.run(tf.global_variables_initializer())\n",
    "\n",
    "    for epoch_i in range(num_epochs):\n",
    "        state = sess.run(initial_state, {input_text: batches[0][0]})\n",
    "\n",
    "        for batch_i, (x, y) in enumerate(batches):\n",
    "            feed = {\n",
    "                input_text: x,\n",
    "                targets: y,\n",
    "                initial_state: state,\n",
    "                lr: learning_rate}\n",
    "            train_loss, state, _ = sess.run([cost, final_state, train_op], feed)\n",
    "\n",
    "            # Show every <show_every_n_batches> batches\n",
    "            if (epoch_i * len(batches) + batch_i) % show_every_n_batches == 0:\n",
    "                print('Epoch {:>3} Batch {:>4}/{}   train_loss = {:.3f}'.format(\n",
    "                    epoch_i,\n",
    "                    batch_i,\n",
    "                    len(batches),\n",
    "                    train_loss))\n",
    "\n",
    "    # Save Model\n",
    "    saver = tf.train.Saver()\n",
    "    saver.save(sess, save_dir)\n",
    "    print('Model Trained and Saved')"
   ]
  },
  {
   "cell_type": "markdown",
   "metadata": {
    "deletable": true,
    "editable": true
   },
   "source": [
    "## Save Parameters\n",
    "Save `seq_length` and `save_dir` for generating a new TV script."
   ]
  },
  {
   "cell_type": "code",
   "execution_count": 42,
   "metadata": {
    "collapsed": false,
    "deletable": true,
    "editable": true
   },
   "outputs": [],
   "source": [
    "\"\"\"\n",
    "DON'T MODIFY ANYTHING IN THIS CELL\n",
    "\"\"\"\n",
    "# Save parameters for checkpoint\n",
    "helper.save_params((seq_length, save_dir))"
   ]
  },
  {
   "cell_type": "markdown",
   "metadata": {
    "deletable": true,
    "editable": true
   },
   "source": [
    "# Checkpoint"
   ]
  },
  {
   "cell_type": "code",
   "execution_count": 43,
   "metadata": {
    "collapsed": false,
    "deletable": true,
    "editable": true
   },
   "outputs": [],
   "source": [
    "\"\"\"\n",
    "DON'T MODIFY ANYTHING IN THIS CELL\n",
    "\"\"\"\n",
    "import tensorflow as tf\n",
    "import numpy as np\n",
    "import helper\n",
    "import problem_unittests as tests\n",
    "\n",
    "_, vocab_to_int, int_to_vocab, token_dict = helper.load_preprocess()\n",
    "seq_length, load_dir = helper.load_params()"
   ]
  },
  {
   "cell_type": "markdown",
   "metadata": {
    "deletable": true,
    "editable": true
   },
   "source": [
    "## Implement Generate Functions\n",
    "### Get Tensors\n",
    "Get tensors from `loaded_graph` using the function [`get_tensor_by_name()`](https://www.tensorflow.org/api_docs/python/tf/Graph#get_tensor_by_name).  Get the tensors using the following names:\n",
    "- \"input:0\"\n",
    "- \"initial_state:0\"\n",
    "- \"final_state:0\"\n",
    "- \"probs:0\"\n",
    "\n",
    "Return the tensors in the following tuple `(InputTensor, InitialStateTensor, FinalStateTensor, ProbsTensor)` "
   ]
  },
  {
   "cell_type": "code",
   "execution_count": 45,
   "metadata": {
    "collapsed": false,
    "deletable": true,
    "editable": true
   },
   "outputs": [
    {
     "name": "stdout",
     "output_type": "stream",
     "text": [
      "Tests Passed\n"
     ]
    }
   ],
   "source": [
    "def get_tensors(loaded_graph):\n",
    "    \"\"\"\n",
    "    Get input, initial state, final state, and probabilities tensor from <loaded_graph>\n",
    "    :param loaded_graph: TensorFlow graph loaded from file\n",
    "    :return: Tuple (InputTensor, InitialStateTensor, FinalStateTensor, ProbsTensor)\n",
    "    \"\"\"\n",
    "    # TODO: Implement Function\n",
    "    \n",
    "    InputTensor = loaded_graph.get_tensor_by_name(\"input:0\")\n",
    "    InitialStateTensor = loaded_graph.get_tensor_by_name(\"initial_state:0\")\n",
    "    FinalStateTensor = loaded_graph.get_tensor_by_name(\"final_state:0\")\n",
    "    ProbsTensor = loaded_graph.get_tensor_by_name(\"probs:0\")\n",
    "    return InputTensor, InitialStateTensor, FinalStateTensor, ProbsTensor\n",
    "\n",
    "\n",
    "\"\"\"\n",
    "DON'T MODIFY ANYTHING IN THIS CELL THAT IS BELOW THIS LINE\n",
    "\"\"\"\n",
    "tests.test_get_tensors(get_tensors)"
   ]
  },
  {
   "cell_type": "markdown",
   "metadata": {
    "deletable": true,
    "editable": true
   },
   "source": [
    "### Choose Word\n",
    "Implement the `pick_word()` function to select the next word using `probabilities`."
   ]
  },
  {
   "cell_type": "code",
   "execution_count": 47,
   "metadata": {
    "collapsed": false,
    "deletable": true,
    "editable": true
   },
   "outputs": [
    {
     "name": "stdout",
     "output_type": "stream",
     "text": [
      "Tests Passed\n"
     ]
    }
   ],
   "source": [
    "def pick_word(probabilities, int_to_vocab):\n",
    "    \"\"\"\n",
    "    Pick the next word in the generated text\n",
    "    :param probabilities: Probabilites of the next word\n",
    "    :param int_to_vocab: Dictionary of word ids as the keys and words as the values\n",
    "    :return: String of the predicted word\n",
    "    \"\"\"\n",
    "    # TODO: Implement Function\n",
    "    max_prob = np.argmax(probabilities)\n",
    "    return int_to_vocab[max_prob]\n",
    "\n",
    "\n",
    "\"\"\"\n",
    "DON'T MODIFY ANYTHING IN THIS CELL THAT IS BELOW THIS LINE\n",
    "\"\"\"\n",
    "tests.test_pick_word(pick_word)"
   ]
  },
  {
   "cell_type": "markdown",
   "metadata": {
    "deletable": true,
    "editable": true
   },
   "source": [
    "## Generate TV Script\n",
    "This will generate the TV script for you.  Set `gen_length` to the length of TV script you want to generate."
   ]
  },
  {
   "cell_type": "code",
   "execution_count": 51,
   "metadata": {
    "collapsed": false,
    "deletable": true,
    "editable": true
   },
   "outputs": [
    {
     "name": "stdout",
     "output_type": "stream",
     "text": [
      "homer_simpson: if other very very very very very very very very very very very very very very very if very very very very very very very very very if very very very very if if very very very very very very very very very very very very very very very very very very very very very very very very very very very very very very very very if very very if very if very very very very very very very very very very very very very very very very if very very very very very very very very very very very very very very very very very very very very very very very if very very very very very if very very very very very very very very very very very very very very very very very very very very very very very very very other very very very very very very very very very very very very very very very very very very very very very very very very very if very very very very very very very very very very very very very very very very if very very very very very very very very very very very very\n"
     ]
    }
   ],
   "source": [
    "gen_length = 200\n",
    "# homer_simpson, moe_szyslak, or Barney_Gumble\n",
    "prime_word = 'homer_simpson'\n",
    "\n",
    "\"\"\"\n",
    "DON'T MODIFY ANYTHING IN THIS CELL THAT IS BELOW THIS LINE\n",
    "\"\"\"\n",
    "loaded_graph = tf.Graph()\n",
    "with tf.Session(graph=loaded_graph) as sess:\n",
    "    # Load saved model\n",
    "    loader = tf.train.import_meta_graph(load_dir + '.meta')\n",
    "    loader.restore(sess, load_dir)\n",
    "\n",
    "    # Get Tensors from loaded model\n",
    "    input_text, initial_state, final_state, probs = get_tensors(loaded_graph)\n",
    "\n",
    "    # Sentences generation setup\n",
    "    gen_sentences = [prime_word + ':']\n",
    "    prev_state = sess.run(initial_state, {input_text: np.array([[1]])})\n",
    "\n",
    "    # Generate sentences\n",
    "    for n in range(gen_length):\n",
    "        # Dynamic Input\n",
    "        dyn_input = [[vocab_to_int[word] for word in gen_sentences[-seq_length:]]]\n",
    "        dyn_seq_length = len(dyn_input[0])\n",
    "\n",
    "        # Get Prediction\n",
    "        probabilities, prev_state = sess.run(\n",
    "            [probs, final_state],\n",
    "            {input_text: dyn_input, initial_state: prev_state})\n",
    "        \n",
    "        pred_word = pick_word(probabilities[dyn_seq_length-1], int_to_vocab)\n",
    "\n",
    "        gen_sentences.append(pred_word)\n",
    "    \n",
    "    # Remove tokens\n",
    "    tv_script = ' '.join(gen_sentences)\n",
    "    for key, token in token_dict.items():\n",
    "        ending = ' ' if key in ['\\n', '(', '\"'] else ''\n",
    "        tv_script = tv_script.replace(' ' + token.lower(), key)\n",
    "    tv_script = tv_script.replace('\\n ', '\\n')\n",
    "    tv_script = tv_script.replace('( ', '(')\n",
    "        \n",
    "    print(tv_script)"
   ]
  },
  {
   "cell_type": "markdown",
   "metadata": {
    "deletable": true,
    "editable": true
   },
   "source": [
    "# The TV Script is Nonsensical\n",
    "It's ok if the TV script doesn't make any sense.  We trained on less than a megabyte of text.  In order to get good results, you'll have to use a smaller vocabulary or get more data.  Luckly there's more data!  As we mentioned in the begging of this project, this is a subset of [another dataset](https://www.kaggle.com/wcukierski/the-simpsons-by-the-data).  We didn't have you train on all the data, because that would take too long.  However, you are free to train your neural network on all the data.  After you complete the project, of course.\n",
    "# Submitting This Project\n",
    "When submitting this project, make sure to run all the cells before saving the notebook. Save the notebook file as \"dlnd_tv_script_generation.ipynb\" and save it as a HTML file under \"File\" -> \"Download as\". Include the \"helper.py\" and \"problem_unittests.py\" files in your submission."
   ]
  }
 ],
 "metadata": {
  "kernelspec": {
   "display_name": "Python 3",
   "language": "python",
   "name": "python3"
  },
  "language_info": {
   "codemirror_mode": {
    "name": "ipython",
    "version": 3
   },
   "file_extension": ".py",
   "mimetype": "text/x-python",
   "name": "python",
   "nbconvert_exporter": "python",
   "pygments_lexer": "ipython3",
   "version": "3.5.4"
  },
  "toc": {
   "nav_menu": {},
   "number_sections": true,
   "sideBar": true,
   "skip_h1_title": false,
   "title_cell": "Table of Contents",
   "title_sidebar": "Contents",
   "toc_cell": false,
   "toc_position": {
    "height": "calc(100% - 180px)",
    "left": "10px",
    "top": "150px",
    "width": "288px"
   },
   "toc_section_display": true,
   "toc_window_display": true
  },
  "varInspector": {
   "cols": {
    "lenName": 16,
    "lenType": 16,
    "lenVar": 40
   },
   "kernels_config": {
    "python": {
     "delete_cmd_postfix": "",
     "delete_cmd_prefix": "del ",
     "library": "var_list.py",
     "varRefreshCmd": "print(var_dic_list())"
    },
    "r": {
     "delete_cmd_postfix": ") ",
     "delete_cmd_prefix": "rm(",
     "library": "var_list.r",
     "varRefreshCmd": "cat(var_dic_list()) "
    }
   },
   "types_to_exclude": [
    "module",
    "function",
    "builtin_function_or_method",
    "instance",
    "_Feature"
   ],
   "window_display": false
  },
  "widgets": {
   "state": {},
   "version": "1.1.2"
  }
 },
 "nbformat": 4,
 "nbformat_minor": 0
}
